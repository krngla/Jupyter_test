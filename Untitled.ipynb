{
 "cells": [
  {
   "cell_type": "markdown",
   "metadata": {},
   "source": [
    "# hello world.exe"
   ]
  },
  {
   "cell_type": "markdown",
   "metadata": {},
   "source": [
    "her skal vi vise \"Hello, world!\" ved hjelp av print funksjonen.\n",
    "```\n",
    "print\"Hello, world!\" \n",
    "```\n",
    "inn i ruten under og klikk shift+enter\n"
   ]
  },
  {
   "cell_type": "code",
   "execution_count": null,
   "metadata": {
    "collapsed": false
   },
   "outputs": [],
   "source": []
  },
  {
   "cell_type": "markdown",
   "metadata": {},
   "source": [
    "Et viktig verktøy i koding er funksjoner å nå skal vi lage en som tar en en setning, eller streng og printer. \n",
    "```\n",
    "\"hello, (streng)! \n",
    "```"
   ]
  },
  {
   "cell_type": "code",
   "execution_count": null,
   "metadata": {
    "collapsed": false
   },
   "outputs": [],
   "source": [
    "def hello(str):\n",
    "    print\"Hello, %s!\" % str"
   ]
  },
  {
   "cell_type": "markdown",
   "metadata": {},
   "source": [
    "nå kan du kalle funksjonen med\n",
    "```\n",
    "hello(\"world\")\n",
    "```\n",
    "skriv dette inn i ruten under!"
   ]
  },
  {
   "cell_type": "code",
   "execution_count": null,
   "metadata": {
    "collapsed": false
   },
   "outputs": [],
   "source": []
  },
  {
   "cell_type": "markdown",
   "metadata": {},
   "source": []
  }
 ],
 "metadata": {
  "kernelspec": {
   "display_name": "Python 2",
   "language": "python",
   "name": "python2"
  },
  "language_info": {
   "codemirror_mode": {
    "name": "ipython",
    "version": 2
   },
   "file_extension": ".py",
   "mimetype": "text/x-python",
   "name": "python",
   "nbconvert_exporter": "python",
   "pygments_lexer": "ipython2",
   "version": "2.7.11"
  }
 },
 "nbformat": 4,
 "nbformat_minor": 0
}
